{
  "cells": [
    {
      "cell_type": "markdown",
      "metadata": {
        "id": "view-in-github",
        "colab_type": "text"
      },
      "source": [
        "<a href=\"https://colab.research.google.com/github/sinnarasam/StudyJAM/blob/main/intro_prompt_design_v1_0_0.ipynb\" target=\"_parent\"><img src=\"https://colab.research.google.com/assets/colab-badge.svg\" alt=\"Open In Colab\"/></a>"
      ]
    },
    {
      "cell_type": "code",
      "execution_count": null,
      "metadata": {
        "id": "ur8xi4C7S06n",
        "tags": []
      },
      "outputs": [],
      "source": [
        "# Copyright 2024 Google LLC\n",
        "#\n",
        "# Licensed under the Apache License, Version 2.0 (the \"License\");\n",
        "# you may not use this file except in compliance with the License.\n",
        "# You may obtain a copy of the License at\n",
        "#\n",
        "#     https://www.apache.org/licenses/LICENSE-2.0\n",
        "#\n",
        "# Unless required by applicable law or agreed to in writing, software\n",
        "# distributed under the License is distributed on an \"AS IS\" BASIS,\n",
        "# WITHOUT WARRANTIES OR CONDITIONS OF ANY KIND, either express or implied.\n",
        "# See the License for the specific language governing permissions and\n",
        "# limitations under the License."
      ]
    },
    {
      "cell_type": "markdown",
      "metadata": {
        "id": "JAPoU8Sm5E6e"
      },
      "source": [
        "# Prompt Design - Best Practices\n",
        "\n",
        "<table align=\"left\">\n",
        "  <td style=\"text-align: center\">\n",
        "    <a href=\"https://colab.research.google.com/github/GoogleCloudPlatform/generative-ai/blob/main/gemini/prompts/intro_prompt_design.ipynb\">\n",
        "      <img src=\"https://cloud.google.com/ml-engine/images/colab-logo-32px.png\" alt=\"Google Colaboratory logo\"><br> Open in Colab\n",
        "    </a>\n",
        "  </td>\n",
        "  <td style=\"text-align: center\">\n",
        "    <a href=\"https://console.cloud.google.com/vertex-ai/colab/import/https:%2F%2Fraw.githubusercontent.com%2FGoogleCloudPlatform%2Fgenerative-ai%2Fmain%2Fgemini%2Fprompts%2Fintro_prompt_design.ipynb\">\n",
        "      <img width=\"32px\" src=\"https://lh3.googleusercontent.com/JmcxdQi-qOpctIvWKgPtrzZdJJK-J3sWE1RsfjZNwshCFgE_9fULcNpuXYTilIR2hjwN\" alt=\"Google Cloud Colab Enterprise logo\"><br> Open in Colab Enterprise\n",
        "    </a>\n",
        "  </td>    \n",
        "  <td style=\"text-align: center\">\n",
        "    <a href=\"https://console.cloud.google.com/vertex-ai/workbench/deploy-notebook?download_url=https://raw.githubusercontent.com/GoogleCloudPlatform/generative-ai/main/gemini/prompts/intro_prompt_design.ipynb\">\n",
        "      <img src=\"https://lh3.googleusercontent.com/UiNooY4LUgW_oTvpsNhPpQzsstV5W8F7rYgxgGBD85cWJoLmrOzhVs_ksK_vgx40SHs7jCqkTkCk=e14-rj-sc0xffffff-h130-w32\" alt=\"Vertex AI logo\"><br> Open in Workbench\n",
        "    </a>\n",
        "  </td>\n",
        "  <td style=\"text-align: center\">\n",
        "    <a href=\"https://github.com/GoogleCloudPlatform/generative-ai/blob/main/gemini/prompts/intro_prompt_design.ipynb\">\n",
        "      <img src=\"https://cloud.google.com/ml-engine/images/github-logo-32px.png\" alt=\"GitHub logo\"><br> View on GitHub\n",
        "    </a>\n",
        "  </td>\n",
        "</table>"
      ]
    },
    {
      "cell_type": "markdown",
      "metadata": {
        "id": "84f0f73a0f76"
      },
      "source": [
        "| | | |\n",
        "|-|-|-|\n",
        "|Author(s) | [Polong Lin](https://github.com/polong-lin) | [Karl Weinmeister](https://github.com/kweinmeister)|"
      ]
    },
    {
      "cell_type": "markdown",
      "metadata": {
        "id": "tvgnzT1CKxrO"
      },
      "source": [
        "## Overview\n",
        "\n",
        "This notebook covers the essentials of prompt engineering, including some best practices.\n",
        "\n",
        "Learn more about prompt design in the [official documentation](https://cloud.google.com/vertex-ai/docs/generative-ai/text/text-overview).\n",
        "\n",
        "In this notebook, you learn best practices around prompt engineering -- how to design prompts to improve the quality of your responses.\n",
        "\n",
        "This notebook covers the following best practices for prompt engineering:\n",
        "\n",
        "- Be concise\n",
        "- Be specific and well-defined\n",
        "- Ask one task at a time\n",
        "- Turn generative tasks into classification tasks\n",
        "- Improve response quality by including examples"
      ]
    },
    {
      "cell_type": "markdown",
      "metadata": {
        "id": "61RBz8LLbxCR"
      },
      "source": [
        "## Getting Started"
      ]
    },
    {
      "cell_type": "markdown",
      "metadata": {
        "id": "No17Cw5hgx12"
      },
      "source": [
        "### Install Vertex AI SDK and other required packages\n"
      ]
    },
    {
      "cell_type": "code",
      "execution_count": null,
      "metadata": {
        "id": "tFy3H3aPgx12",
        "tags": [],
        "outputId": "9079ebad-0f0b-416d-e452-0c27d53eb34e"
      },
      "outputs": [
        {
          "name": "stdout",
          "output_type": "stream",
          "text": [
            "Note: you may need to restart the kernel to use updated packages.\n"
          ]
        }
      ],
      "source": [
        "%pip install --upgrade --user --quiet google-cloud-aiplatform"
      ]
    },
    {
      "cell_type": "code",
      "execution_count": null,
      "metadata": {
        "id": "R5Xep4W9lq-Z",
        "tags": [],
        "outputId": "4dc52e96-06b4-4b68-f622-0ab3e62789ff"
      },
      "outputs": [
        {
          "ename": "SyntaxError",
          "evalue": "invalid syntax (1258973391.py, line 3)",
          "output_type": "error",
          "traceback": [
            "\u001b[0;36m  Cell \u001b[0;32mIn[4], line 3\u001b[0;36m\u001b[0m\n\u001b[0;31m    To use the newly installed packages in this Jupyter runtime, you must restart the runtime. You can do this by running the cell below, which will restart the current kernel.\u001b[0m\n\u001b[0m       ^\u001b[0m\n\u001b[0;31mSyntaxError\u001b[0m\u001b[0;31m:\u001b[0m invalid syntax\n"
          ]
        }
      ],
      "source": [
        "### Restart runtime\n",
        "\n",
        "To use the newly installed packages in this Jupyter runtime, you must restart the runtime. You can do this by running the cell below, which will restart the current kernel."
      ]
    },
    {
      "cell_type": "code",
      "execution_count": null,
      "metadata": {
        "id": "XRvKdaPDTznN",
        "tags": [],
        "outputId": "2c47fa41-3d3d-43ae-a54d-6aa2f7126555"
      },
      "outputs": [
        {
          "data": {
            "text/plain": [
              "{'status': 'ok', 'restart': True}"
            ]
          },
          "execution_count": 5,
          "metadata": {},
          "output_type": "execute_result"
        }
      ],
      "source": [
        "import IPython\n",
        "\n",
        "app = IPython.Application.instance()\n",
        "app.kernel.do_shutdown(True)"
      ]
    },
    {
      "cell_type": "markdown",
      "metadata": {
        "id": "SbmM4z7FOBpM"
      },
      "source": [
        "<div class=\"alert alert-block alert-warning\">\n",
        "<b>⚠️ The kernel is going to restart. Please wait until it is finished before continuing to the next step. ⚠️</b>\n",
        "</div>\n"
      ]
    },
    {
      "cell_type": "markdown",
      "metadata": {
        "id": "dmWOrTJ3gx13"
      },
      "source": [
        "### Authenticate your notebook environment (Colab only)\n",
        "\n",
        "Authenticate your environment on Google Colab.\n"
      ]
    },
    {
      "cell_type": "code",
      "execution_count": null,
      "metadata": {
        "id": "NyKGtVQjgx13"
      },
      "outputs": [],
      "source": [
        "import sys\n",
        "\n",
        "if \"google.colab\" in sys.modules:\n",
        "    from google.colab import auth\n",
        "\n",
        "    auth.authenticate_user()"
      ]
    },
    {
      "cell_type": "markdown",
      "metadata": {
        "id": "DF4l8DTdWgPY"
      },
      "source": [
        "### Set Google Cloud project information and initialize Vertex AI SDK\n",
        "\n",
        "To get started using Vertex AI, you must have an existing Google Cloud project and [enable the Vertex AI API](https://console.cloud.google.com/flows/enableapi?apiid=aiplatform.googleapis.com).\n",
        "\n",
        "Learn more about [setting up a project and a development environment](https://cloud.google.com/vertex-ai/docs/start/cloud-environment)."
      ]
    },
    {
      "cell_type": "code",
      "execution_count": null,
      "metadata": {
        "id": "Nqwi-5ufWp_B"
      },
      "outputs": [],
      "source": [
        "PROJECT_ID = \"qwiklabs-gcp-00-a241abe91196\"  # @param {type:\"string\"}\n",
        "LOCATION = \"us-central1\"  # @param {type:\"string\"}\n",
        "\n",
        "import vertexai\n",
        "\n",
        "vertexai.init(project=PROJECT_ID, location=LOCATION)"
      ]
    },
    {
      "cell_type": "code",
      "execution_count": null,
      "metadata": {
        "id": "QqRWdPGmW3NJ"
      },
      "outputs": [],
      "source": [
        "from vertexai.generative_models import GenerationConfig, GenerativeModel\n",
        "import time"
      ]
    },
    {
      "cell_type": "markdown",
      "metadata": {
        "id": "OnFPpCRtXRl4"
      },
      "source": [
        "### Load model"
      ]
    },
    {
      "cell_type": "code",
      "execution_count": null,
      "metadata": {
        "id": "IQYu_9SvXQah"
      },
      "outputs": [],
      "source": [
        "model = GenerativeModel(\"gemini-1.5-flash\")"
      ]
    },
    {
      "cell_type": "code",
      "execution_count": null,
      "metadata": {
        "tags": [],
        "id": "N5d_jsLO0647"
      },
      "outputs": [],
      "source": [
        "import time\n",
        "\n",
        "def call_gemini(prompt, generation_config=GenerationConfig(temperature=1.0)):\n",
        "    wait_time = 1\n",
        "    while True:\n",
        "        try:\n",
        "            response = model.generate_content(prompt, generation_config=generation_config).text\n",
        "            return response\n",
        "            break  # Exit the loop if successful\n",
        "        except Exception as e:  # Replace with the actual exception type\n",
        "            time.sleep(wait_time)\n",
        "            wait_time *= 2  # Double the wait time\n",
        "\n",
        "def send_message_gemini(model, prompt):\n",
        "    wait_time = 1\n",
        "    while True:\n",
        "        try:\n",
        "            response = model.send_message(prompt).text\n",
        "            return response\n",
        "            break  # Exit the loop if successful\n",
        "        except Exception as e:  # Replace with the actual exception type\n",
        "            time.sleep(wait_time)\n",
        "            wait_time *= 2  # Double the wait time"
      ]
    },
    {
      "cell_type": "markdown",
      "metadata": {
        "id": "cVOtUNJ5X0PY"
      },
      "source": [
        "## Prompt engineering best practices"
      ]
    },
    {
      "cell_type": "markdown",
      "metadata": {
        "id": "uv_e0fEPX60q"
      },
      "source": [
        "Prompt engineering is all about how to design your prompts so that the response is what you were indeed hoping to see.\n",
        "\n",
        "The idea of using \"unfancy\" prompts is to minimize the noise in your prompt to reduce the possibility of the LLM misinterpreting the intent of the prompt. Below are a few guidelines on how to engineer \"unfancy\" prompts.\n",
        "\n",
        "In this section, you'll cover the following best practices when engineering prompts:\n",
        "\n",
        "* Be concise\n",
        "* Be specific, and well-defined\n",
        "* Ask one task at a time\n",
        "* Improve response quality by including examples\n",
        "* Turn generative tasks to classification tasks to improve safety"
      ]
    },
    {
      "cell_type": "markdown",
      "metadata": {
        "id": "0pY4XX0OX9_Y"
      },
      "source": [
        "### Be concise"
      ]
    },
    {
      "cell_type": "markdown",
      "metadata": {
        "id": "xlRpxyxGYA1K"
      },
      "source": [
        "🛑 Not recommended. The prompt below is unnecessarily verbose."
      ]
    },
    {
      "cell_type": "code",
      "execution_count": null,
      "metadata": {
        "id": "YKV4G-CfXdbi",
        "outputId": "100dc3fa-8b29-4c0c-864a-7546bc1872a8"
      },
      "outputs": [
        {
          "name": "stdout",
          "output_type": "stream",
          "text": [
            "Here are some names for a flower shop specializing in dried flowers, playing with different themes:\n",
            "\n",
            "**Whimsical & Romantic:**\n",
            "\n",
            "* The Dried Petal\n",
            "* Bloom & Wither\n",
            "* Everlasting Blooms\n",
            "* The Dried Flower Garden\n",
            "* Whispers of Wildflowers\n",
            "* Timeless Blooms\n",
            "\n",
            "**Modern & Minimalist:**\n",
            "\n",
            "* The Dried Bouquet\n",
            "* Bloom & Fade\n",
            "* Faded Beauty\n",
            "* Paper & Petal\n",
            "* Botanical Hues\n",
            "* Bloom & Co.\n",
            "\n",
            "**Unique & Playful:**\n",
            "\n",
            "* The Dusty Bouquet\n",
            "* The Sun-Kissed Bloom\n",
            "* The Herbarium\n",
            "* The Flower Press\n",
            "* Forever Blooms\n",
            "* The Dried Flower Nook\n",
            "\n",
            "**Location-based:**\n",
            "\n",
            "* [Your City] Dried Flowers\n",
            "* The [Your Street Name] Flower Co.\n",
            "* [Your Neighborhood] Bloomery\n",
            "\n",
            "**Tips for Choosing a Name:**\n",
            "\n",
            "* **Keep it memorable and easy to pronounce.**\n",
            "* **Reflect your brand and target audience.**\n",
            "* **Check for availability of the name and domain name.**\n",
            "* **Consider your business's location and branding.**\n",
            "\n",
            "Ultimately, the best name for your shop will be one that you love and that resonates with your customers. Good luck! \n",
            "\n"
          ]
        }
      ],
      "source": [
        "prompt = \"What do you think could be a good name for a flower shop that specializes in selling bouquets of dried flowers more than fresh flowers?\"\n",
        "\n",
        "print(call_gemini(prompt))"
      ]
    },
    {
      "cell_type": "markdown",
      "metadata": {
        "id": "YrJexRHJYnmC"
      },
      "source": [
        "✅ Recommended. The prompt below is to the point and concise."
      ]
    },
    {
      "cell_type": "code",
      "execution_count": null,
      "metadata": {
        "id": "VHetn9lCYrXB",
        "outputId": "f2d38c9b-dc41-482c-dfe9-16c9cf6d8c3d"
      },
      "outputs": [
        {
          "name": "stdout",
          "output_type": "stream",
          "text": [
            "Here are some names for a flower shop that sells bouquets of dried flowers, playing on different themes:\n",
            "\n",
            "**Romantic & Timeless:**\n",
            "\n",
            "* **Everlasting Bloom**\n",
            "* **Dried & Delicate**\n",
            "* **Bloom & Blossom**\n",
            "* **The Wilted Rose**\n",
            "* **Whispers of Bloom**\n",
            "* **The Dried Petal**\n",
            "\n",
            "**Modern & Trendy:**\n",
            "\n",
            "* **Botanica Dried**\n",
            "* **Bloom & Preserve**\n",
            "* **Dried Blooms Co.**\n",
            "* **The Bloom Bar**\n",
            "* **Everlasting Flora**\n",
            "\n",
            "**Whimsical & Unique:**\n",
            "\n",
            "* **The Flower Alchemist**\n",
            "* **Paper & Petals**\n",
            "* **The Botanical Muse**\n",
            "* **Dusty Blooms**\n",
            "* **Wildflower & Co.**\n",
            "\n",
            "**Location-Specific:**\n",
            "\n",
            "* [Your City] Dried Flowers\n",
            "* [Your Neighborhood] Bloom\n",
            "* [Your Street] Petals\n",
            "\n",
            "**Tips for Choosing a Name:**\n",
            "\n",
            "* **Keep it short and memorable.**\n",
            "* **Consider your target audience.**\n",
            "* **Make sure the name is available as a domain name and social media handle.**\n",
            "* **Get feedback from friends and family.**\n",
            "\n",
            "Remember to choose a name that you love and that reflects the unique style of your shop. Good luck! \n",
            "\n"
          ]
        }
      ],
      "source": [
        "prompt = \"Suggest a name for a flower shop that sells bouquets of dried flowers\"\n",
        "\n",
        "print(call_gemini(prompt))"
      ]
    },
    {
      "cell_type": "markdown",
      "metadata": {
        "id": "eXTAvdOHY0OC"
      },
      "source": [
        "### Be specific, and well-defined"
      ]
    },
    {
      "cell_type": "markdown",
      "metadata": {
        "id": "FTH4GEIgY1dp"
      },
      "source": [
        "Suppose that you want to brainstorm creative ways to describe Earth."
      ]
    },
    {
      "cell_type": "markdown",
      "metadata": {
        "id": "o5BmXBiGY4KC"
      },
      "source": [
        "🛑 The prompt below might be a bit too generic (which is certainly OK if you'd like to ask a generic question!)"
      ]
    },
    {
      "cell_type": "code",
      "execution_count": null,
      "metadata": {
        "id": "eHBaMvv7Y6mR",
        "outputId": "004f6454-8d72-4a65-f32c-f764301978bf"
      },
      "outputs": [
        {
          "name": "stdout",
          "output_type": "stream",
          "text": [
            "## Earth: Our Home Planet\n",
            "\n",
            "Earth is the third planet from the Sun and the only known place in the universe where life is known to exist. It's a vibrant and dynamic world, constantly evolving and changing. \n",
            "\n",
            "Here are some key facts about Earth:\n",
            "\n",
            "**Physical Characteristics:**\n",
            "\n",
            "* **Diameter:** 12,742 kilometers (7,926 miles)\n",
            "* **Surface area:** 510 million square kilometers (197 million square miles)\n",
            "* **Mass:** 5.972 × 10^24 kg\n",
            "* **Average density:** 5.52 g/cm³\n",
            "* **Surface gravity:** 9.81 m/s²\n",
            "* **Rotation period:** 23 hours, 56 minutes, 4 seconds\n",
            "* **Orbital period:** 365.25 days\n",
            "* **Average distance from the Sun:** 149.6 million kilometers (93 million miles)\n",
            "\n",
            "**Composition:**\n",
            "\n",
            "* **Atmosphere:** Primarily nitrogen (78%), oxygen (21%), and other trace gases.\n",
            "* **Surface:** Composed of 71% water (oceans, lakes, rivers) and 29% land (continents, islands).\n",
            "* **Interior:**  A core (solid inner core and liquid outer core), mantle (solid but flowing), and crust (the thin outer layer).\n",
            "\n",
            "**Life:**\n",
            "\n",
            "* **Biodiversity:** Home to millions of species of plants, animals, and microorganisms.\n",
            "* **Evolution:** Life on Earth has evolved over billions of years through natural selection.\n",
            "* **Human impact:** Human activities have a significant impact on the Earth's environment, including climate change, pollution, and habitat loss.\n",
            "\n",
            "**Unique Features:**\n",
            "\n",
            "* **Plate tectonics:** The Earth's crust is made up of moving plates that interact, causing earthquakes, volcanic eruptions, and mountain formation.\n",
            "* **Magnetic field:** The Earth's core generates a magnetic field that protects us from harmful solar radiation.\n",
            "* **Water cycle:** The continuous movement of water between the atmosphere, land, and oceans.\n",
            "\n",
            "**Understanding Earth:**\n",
            "\n",
            "* **Science:** Earth science studies the Earth's physical, chemical, and biological systems.\n",
            "* **Exploration:** Scientists and astronauts continue to explore and study Earth from space and on the ground.\n",
            "* **Sustainability:** Protecting the Earth's environment and resources for future generations is essential.\n",
            "\n",
            "**Earth is a complex and fascinating planet with a rich history and an uncertain future. By understanding our planet, we can better care for it and ensure its survival for generations to come.**\n",
            "\n"
          ]
        }
      ],
      "source": [
        "prompt = \"Tell me about Earth\"\n",
        "\n",
        "print(call_gemini(prompt))"
      ]
    },
    {
      "cell_type": "markdown",
      "metadata": {
        "id": "4iyvEbteZnFL"
      },
      "source": [
        "✅ Recommended. The prompt below is specific and well-defined."
      ]
    },
    {
      "cell_type": "code",
      "execution_count": null,
      "metadata": {
        "id": "JQ80z8urZnne",
        "outputId": "1700b62b-7549-4b70-fb9a-d6a5263582e8"
      },
      "outputs": [
        {
          "name": "stdout",
          "output_type": "stream",
          "text": [
            "## Earth's Unique Traits: What Makes Our Planet Special\n",
            "\n",
            "Earth stands out in the cosmic landscape due to a fascinating combination of factors, making it the only known abode of life as we know it. Here's a list of key features that make our planet unique:\n",
            "\n",
            "**1. Liquid Water:** Earth boasts vast oceans covering 71% of its surface. This liquid water is essential for life as we know it, serving as a solvent, a medium for transporting nutrients, and a key component of biological processes.\n",
            "\n",
            "**2. Plate Tectonics:** Earth's crust is divided into plates that move and interact, shaping the planet's continents, mountains, and oceans. This dynamic process helps regulate the planet's climate and provides a unique geological history.\n",
            "\n",
            "**3. Atmosphere:** Earth's atmosphere, rich in nitrogen and oxygen, provides a protective shield against harmful solar radiation. It also helps regulate temperature through the greenhouse effect, making life possible.\n",
            "\n",
            "**4. Magnetic Field:** Earth's core generates a magnetic field that acts as a shield against harmful solar wind and cosmic rays, protecting life from damaging radiation.\n",
            "\n",
            "**5. Biosphere:** Earth is teeming with diverse life forms, from microscopic bacteria to towering trees. This incredible biodiversity is a testament to the planet's unique combination of factors that have allowed life to flourish.\n",
            "\n",
            "**6. Climate Diversity:** Earth's varied climate zones, ranging from scorching deserts to icy tundras, provide habitats for an incredible array of organisms. This climate diversity is driven by Earth's tilt and rotation, as well as its position in the solar system.\n",
            "\n",
            "**7. Distance from the Sun:** Earth orbits in the habitable zone, at a distance from the sun that allows liquid water to exist on its surface. This \"Goldilocks\" zone is crucial for supporting life.\n",
            "\n",
            "**8. Moon:** Earth's large moon stabilizes its axial tilt, ensuring a relatively stable climate over geological timescales. It also influences tides and ocean currents, contributing to Earth's unique ecosystem.\n",
            "\n",
            "**9. Past Impacts:** Earth has been shaped by countless asteroid and comet impacts throughout its history. These impacts have played a role in both destruction and creation, contributing to the planet's unique geological features.\n",
            "\n",
            "**10. Ongoing Evolution:** Earth's dynamic systems continue to evolve, resulting in a constantly changing planet. This ongoing evolution shapes its environment and provides challenges and opportunities for life.\n",
            "\n",
            "These unique characteristics make Earth a truly special planet, a vibrant world that nurtures life and continues to intrigue and inspire humanity.\n",
            "\n"
          ]
        }
      ],
      "source": [
        "prompt = \"Generate a list of ways that makes Earth unique compared to other planets\"\n",
        "\n",
        "print(call_gemini(prompt))"
      ]
    },
    {
      "cell_type": "markdown",
      "metadata": {
        "id": "R5kmfZYHZsJ7"
      },
      "source": [
        "### Ask one task at a time"
      ]
    },
    {
      "cell_type": "markdown",
      "metadata": {
        "id": "rsAezxeYZuUN"
      },
      "source": [
        "🛑 Not recommended. The prompt below has two parts to the question that could be asked separately."
      ]
    },
    {
      "cell_type": "code",
      "execution_count": null,
      "metadata": {
        "id": "ElywPXpuZtWf",
        "outputId": "0a0d99b1-ec92-40f8-c5c0-cefaac0ec44d"
      },
      "outputs": [
        {
          "name": "stdout",
          "output_type": "stream",
          "text": [
            "Let's tackle these two questions separately:\n",
            "\n",
            "**Boiling Water**\n",
            "\n",
            "The **best method** depends on what you're using it for:\n",
            "\n",
            "* **Fastest:** A stovetop kettle or electric kettle is usually the fastest way to boil water for everyday tasks like tea or instant coffee.\n",
            "* **Most energy efficient:** A stovetop kettle with a tight-fitting lid is generally the most energy efficient as it requires less energy to heat the water.\n",
            "* **Safest:** A microwave is the safest method for boiling small amounts of water, especially for people with limited mobility. \n",
            "* **Large quantities:** A stovetop pot with a wide base is best for boiling large quantities of water for cooking pasta or other dishes.\n",
            "\n",
            "**Why is the Sky Blue?**\n",
            "\n",
            "The blue color of the sky is caused by a phenomenon called **Rayleigh scattering**.  Here's how it works:\n",
            "\n",
            "1. **Sunlight:** Sunlight is made up of all colors of the rainbow.\n",
            "2. **Atmosphere:** As sunlight enters Earth's atmosphere, it encounters air molecules (mainly nitrogen and oxygen).\n",
            "3. **Scattering:**  These air molecules scatter the sunlight in all directions.\n",
            "4. **Wavelengths:**  Blue light has a shorter wavelength than other colors in the visible spectrum, making it more easily scattered by the air molecules.\n",
            "5. **Our Perception:** As we look up at the sky, we see mostly the blue light that has been scattered from all directions. \n",
            "\n",
            "Therefore, we see the sky as blue because the shorter wavelengths of blue light are scattered more efficiently by the air molecules than the longer wavelengths of other colors. \n",
            "\n"
          ]
        }
      ],
      "source": [
        "prompt = \"What's the best method of boiling water and why is the sky blue?\"\n",
        "\n",
        "print(call_gemini(prompt))"
      ]
    },
    {
      "cell_type": "markdown",
      "metadata": {
        "id": "ejzahazBZ8vk"
      },
      "source": [
        "✅ Recommended. The prompts below asks one task a time."
      ]
    },
    {
      "cell_type": "code",
      "execution_count": null,
      "metadata": {
        "id": "C5ckp2F0Z_Ba",
        "outputId": "8f16a04c-3404-4765-aa5c-3fad60370251"
      },
      "outputs": [
        {
          "name": "stdout",
          "output_type": "stream",
          "text": [
            "The best method for boiling water depends on your needs and resources. Here's a breakdown:\n",
            "\n",
            "**For speed and convenience:**\n",
            "\n",
            "* **Electric kettle:** This is the fastest and most convenient way to boil water. Modern kettles are also energy-efficient and have safety features like automatic shut-off.\n",
            "\n",
            "**For versatility and control:**\n",
            "\n",
            "* **Stovetop:**  You can use a pot or saucepan on your stovetop. This gives you more control over the heat and can be used for larger volumes of water.\n",
            "\n",
            "**For travel or camping:**\n",
            "\n",
            "* **Camping stove:** These are lightweight and portable, allowing you to boil water in the outdoors.\n",
            "* **Microwave:** This is quick and easy, but not ideal for larger volumes of water.\n",
            "\n",
            "**Here's what to consider when choosing a method:**\n",
            "\n",
            "* **Volume of water:** Electric kettles are best for small to medium volumes, while stovetop methods are more versatile for larger volumes.\n",
            "* **Time constraints:** Electric kettles and microwaves are the fastest options.\n",
            "* **Energy efficiency:** Electric kettles are generally more efficient than stovetops.\n",
            "* **Portability:** Camping stoves and microwaves are the most portable options.\n",
            "\n",
            "**Safety tips:**\n",
            "\n",
            "* **Never leave water unattended on the stovetop.**\n",
            "* **Always use a pot or pan with a lid to prevent spills.**\n",
            "* **Make sure the water is boiling before using it for drinking or cooking.**\n",
            "\n",
            "Ultimately, the best method for boiling water is the one that meets your individual needs and preferences.\n",
            "\n"
          ]
        }
      ],
      "source": [
        "prompt = \"What's the best method of boiling water?\"\n",
        "\n",
        "print(call_gemini(prompt))"
      ]
    },
    {
      "cell_type": "code",
      "execution_count": null,
      "metadata": {
        "id": "KwUzhud4aA89",
        "outputId": "fdce9e00-ea58-4bcf-c458-0a2e3dbc23e7"
      },
      "outputs": [
        {
          "name": "stdout",
          "output_type": "stream",
          "text": [
            "The sky appears blue due to a phenomenon called **Rayleigh scattering**. Here's how it works:\n",
            "\n",
            "* **Sunlight is made up of all colors of the rainbow.**  These colors have different wavelengths, with blue light having a shorter wavelength than red light.\n",
            "* **When sunlight enters the Earth's atmosphere, it interacts with the tiny molecules of air.** These molecules are much smaller than the wavelength of visible light.\n",
            "* **This interaction causes the light to scatter in all directions.**  This scattering is more pronounced for shorter wavelengths like blue and violet.\n",
            "* **Blue light is scattered more effectively than other colors.**  This is because the shorter wavelength of blue light interacts more strongly with the air molecules.\n",
            "* **As a result, we see a blue sky because the scattered blue light reaches our eyes from all directions.**\n",
            "\n",
            "**Think of it like this:** Imagine a tiny dust particle in the air. When sunlight hits it, the dust particle scatters the light. Blue light scatters more easily, so we see more of it.\n",
            "\n",
            "**Additional factors to consider:**\n",
            "\n",
            "* **The angle of the sun:** The sky appears bluer when the sun is high in the sky, as the light has to travel through less atmosphere.  As the sun sets, the light has to travel through more atmosphere, and the blue light is scattered away, leaving the longer wavelengths like orange and red.\n",
            "* **Clouds:** Clouds are made up of larger water droplets or ice crystals, which scatter all colors of light equally. This is why clouds appear white.\n",
            "* **Pollution:**  Air pollution can increase the amount of scattering, making the sky appear hazy or even brown.\n",
            "\n",
            "So, the next time you look up at the beautiful blue sky, remember that it's a result of the amazing physics of light scattering! \n",
            "\n"
          ]
        }
      ],
      "source": [
        "prompt = \"Why is the sky blue?\"\n",
        "\n",
        "print(call_gemini(prompt))"
      ]
    },
    {
      "cell_type": "markdown",
      "metadata": {
        "id": "PJIL2RTQaGcT"
      },
      "source": [
        "### Watch out for hallucinations"
      ]
    },
    {
      "cell_type": "markdown",
      "metadata": {
        "id": "8Y8kYxrSaHE9"
      },
      "source": [
        "Although LLMs have been trained on a large amount of data, they can generate text containing statements not grounded in truth or reality; these responses from the LLM are often referred to as \"hallucinations\" due to their limited memorization capabilities. Note that simply prompting the LLM to provide a citation isn't a fix to this problem, as there are instances of LLMs providing false or inaccurate citations. Dealing with hallucinations is a fundamental challenge of LLMs and an ongoing research area, so it is important to be cognizant that LLMs may seem to give you confident, correct-sounding statements that are in fact incorrect.\n",
        "\n",
        "Note that if you intend to use LLMs for the creative use cases, hallucinating could actually be quite useful."
      ]
    },
    {
      "cell_type": "markdown",
      "metadata": {
        "id": "8NY5nAGeaJYS"
      },
      "source": [
        "Try the prompt like the one below repeatedly. We set the temperature to 1.0 so that it takes more risks in its choices. It's possible that it may provide an inaccurate, but confident answer."
      ]
    },
    {
      "cell_type": "code",
      "execution_count": null,
      "metadata": {
        "id": "QALPjEILaM62",
        "outputId": "e5575cf0-73d4-47f2-8287-f098f06404ec"
      },
      "outputs": [
        {
          "name": "stdout",
          "output_type": "stream",
          "text": [
            "I do not have access to real-time information, including the current date. To find out what day it is today, please check a calendar or ask a voice assistant. \n",
            "\n"
          ]
        }
      ],
      "source": [
        "generation_config = GenerationConfig(temperature=1.0)\n",
        "\n",
        "prompt = \"What day is it today?\"\n",
        "\n",
        "print(call_gemini(prompt, generation_config))"
      ]
    },
    {
      "cell_type": "markdown",
      "metadata": {
        "id": "BRkwzbgRbhKt"
      },
      "source": [
        "Since LLMs do not have access to real-time information without further integrations, you may have noticed it hallucinates what day it is today in some of the outputs."
      ]
    },
    {
      "cell_type": "markdown",
      "metadata": {
        "id": "3c811e310d02"
      },
      "source": [
        "### Using system instructions to guardrail the model from irrelevant responses\n",
        "\n",
        "How can we attempt to reduce the chances of irrelevant responses and hallucinations?\n",
        "\n",
        "One way is to provide the LLM with [system instructions](https://cloud.google.com/vertex-ai/generative-ai/docs/multimodal/send-chat-prompts-gemini#system-instructions).\n",
        "\n",
        "Let's see how system instructions works and how you can use them to reduce hallucinations or irrelevant questions for a travel chatbot.\n",
        "\n",
        "Suppose we ask a simple question about one of Italy's most famous tourist spots."
      ]
    },
    {
      "cell_type": "code",
      "execution_count": null,
      "metadata": {
        "id": "rB6zJU76biFK",
        "outputId": "68c387e3-9852-4bcc-99d8-dcd6384512ac"
      },
      "outputs": [
        {
          "name": "stdout",
          "output_type": "stream",
          "text": [
            "Milan offers a wealth of sightseeing opportunities! To give you the best suggestion, I need a little more information. What are you most interested in seeing? \n",
            "\n",
            "* **Art and History:** Do you want to visit iconic landmarks like the Duomo or explore Renaissance art at the Pinacoteca di Brera?\n",
            "* **Fashion and Design:** Are you interested in the world of fashion and design, perhaps visiting the Museo del Novecento or the Armani/Silos museum?\n",
            "* **Food and Culture:** Do you want to immerse yourself in Milanese culture, trying local cuisine and exploring vibrant markets?\n",
            "\n",
            "Tell me more about your interests, and I can help you discover the perfect sightseeing spots in Milan! \n",
            "\n"
          ]
        }
      ],
      "source": [
        "model_travel = GenerativeModel(\n",
        "    model_name=\"gemini-1.5-flash\",\n",
        "    system_instruction=[\n",
        "        \"Hello! You are an AI chatbot for a travel web site.\",\n",
        "        \"Your mission is to provide helpful queries for travelers.\",\n",
        "        \"Remember that before you answer a question, you must check to see if it complies with your mission.\",\n",
        "        \"If not, you can say, Sorry I can't answer that question.\",\n",
        "    ],\n",
        ")\n",
        "\n",
        "chat = model_travel.start_chat()\n",
        "\n",
        "prompt = \"What is the best place for sightseeing in Milan, Italy?\"\n",
        "\n",
        "print(send_message_gemini(chat, prompt))"
      ]
    },
    {
      "cell_type": "markdown",
      "metadata": {
        "id": "WZa-Qcf9cF4A"
      },
      "source": [
        "Now let us pretend to be a user asks the chatbot a question that is unrelated to travel."
      ]
    },
    {
      "cell_type": "code",
      "execution_count": null,
      "metadata": {
        "id": "AZKBIDr2cGnu",
        "outputId": "9e8659fa-d0c4-4d1a-85d4-2d19e2b5f277"
      },
      "outputs": [
        {
          "name": "stdout",
          "output_type": "stream",
          "text": [
            "Sorry, I can't answer that question. I'm designed to help travelers plan their trips, and that includes providing information about sightseeing, accommodations, and transportation.  I'm not equipped to give personal advice like meal recommendations.  \n",
            "\n",
            "Perhaps you could try a search engine or a food delivery app to find some delicious dinner options! \n",
            "\n"
          ]
        }
      ],
      "source": [
        "prompt = \"What's for dinner?\"\n",
        "\n",
        "print(send_message_gemini(chat, prompt))"
      ]
    },
    {
      "cell_type": "markdown",
      "metadata": {
        "id": "JiUYIhwpctCy"
      },
      "source": [
        "You can see that this way, a guardrail in the prompt prevented the chatbot from veering off course."
      ]
    },
    {
      "cell_type": "markdown",
      "metadata": {
        "id": "ZuuDhA37cvmP"
      },
      "source": [
        "### Turn generative tasks into classification tasks to reduce output variability"
      ]
    },
    {
      "cell_type": "markdown",
      "metadata": {
        "id": "kUCUrsUzczmb"
      },
      "source": [
        "#### Generative tasks lead to higher output variability"
      ]
    },
    {
      "cell_type": "markdown",
      "metadata": {
        "id": "a1xASHAkc46n"
      },
      "source": [
        "The prompt below results in an open-ended response, useful for brainstorming, but response is highly variable."
      ]
    },
    {
      "cell_type": "code",
      "execution_count": null,
      "metadata": {
        "id": "nPfXQWIacwRf",
        "outputId": "ceded99a-fa16-4874-889e-100156fdfd0e"
      },
      "outputs": [
        {
          "name": "stdout",
          "output_type": "stream",
          "text": [
            "## Programming Activity Recommendations for High School Students:\n",
            "\n",
            "**Beginner (Just starting out):**\n",
            "\n",
            "* **Build a Simple Calculator:**  Write a program that takes two numbers as input and performs basic operations like addition, subtraction, multiplication, and division.\n",
            "* **Create a Text-Based Adventure Game:**  Design a simple story with choices, using conditional statements and loops to guide the player's path.\n",
            "* **Develop a To-Do List App:**  Use lists and data structures to store tasks, and allow users to add, delete, and mark tasks as complete.\n",
            "\n",
            "**Intermediate (Some experience, familiar with basic concepts):**\n",
            "\n",
            "* **Build a Hangman Game:**  Implement the classic game, including logic for guessing letters, displaying the word, and keeping track of attempts.\n",
            "* **Create a Simple Quiz Application:**  Design a quiz with multiple-choice questions, store answers, and provide feedback at the end.\n",
            "* **Develop a Weather App:**  Use an API to fetch weather data for a location and display it in a user-friendly format.\n",
            "\n",
            "**Advanced (Comfortable with most concepts, ready for challenges):**\n",
            "\n",
            "* **Build a Snake Game:**  Create a classic arcade game, utilizing object-oriented programming and game loop concepts.\n",
            "* **Develop a Music Player:**  Integrate with a music library or streaming service, allowing users to play, pause, and control their music.\n",
            "* **Create a Simple Chat Application:**  Implement basic chat functionality with real-time communication using web sockets or other methods.\n",
            "\n",
            "**Additional Tips:**\n",
            "\n",
            "* **Choose a project that interests you:**  Motivation is key to learning!\n",
            "* **Break down the project into smaller steps:**  Focus on one part at a time to avoid feeling overwhelmed.\n",
            "* **Use resources online:**  There are countless tutorials, documentation, and communities available to help you.\n",
            "* **Don't be afraid to experiment:**  Try different approaches and learn from your mistakes.\n",
            "* **Share your projects with others:**  Get feedback, showcase your work, and connect with fellow developers.\n",
            "\n",
            "Remember, **the most important thing is to practice regularly and have fun!** Happy coding! \n",
            "\n"
          ]
        }
      ],
      "source": [
        "prompt = \"I'm a high school student. Recommend me a programming activity to improve my skills.\"\n",
        "\n",
        "print(call_gemini(prompt))"
      ]
    },
    {
      "cell_type": "markdown",
      "metadata": {
        "id": "iAmm9wPYc_1o"
      },
      "source": [
        "#### Classification tasks reduces output variability"
      ]
    },
    {
      "cell_type": "markdown",
      "metadata": {
        "id": "VvRpK_0GdCpf"
      },
      "source": [
        "The prompt below results in a choice and may be useful if you want the output to be easier to control."
      ]
    },
    {
      "cell_type": "code",
      "execution_count": null,
      "metadata": {
        "id": "kYDKh0r2dAqo",
        "outputId": "80e89d1d-8305-44c7-dcdf-5a7473c439dc"
      },
      "outputs": [
        {
          "name": "stdout",
          "output_type": "stream",
          "text": [
            "It's great you're exploring programming!  All three languages have value, but the best choice depends on your interests and goals:\n",
            "\n",
            "**a) Learn Python:**\n",
            "\n",
            "* **Why:** Python is highly versatile and beginner-friendly.  It's used in:\n",
            "    * **Data science and machine learning:** Libraries like NumPy, Pandas, and scikit-learn make Python ideal for analyzing data and building AI models.\n",
            "    * **Web development:** Frameworks like Django and Flask are popular for building websites.\n",
            "    * **Scripting and automation:** Easy to automate tasks, making it great for personal projects.\n",
            "    * **Game development:** Libraries like Pygame allow you to create simple games.\n",
            "* **Pros:** Large community, excellent documentation, vast libraries, easy to learn syntax.\n",
            "* **Cons:** Can be slower than other languages for certain tasks.\n",
            "\n",
            "**b) Learn JavaScript:**\n",
            "\n",
            "* **Why:** JavaScript is the language of the web. It's used to:\n",
            "    * **Interactive websites:** Add dynamic elements like animations, forms, and user interactions.\n",
            "    * **Web development:**  Front-end (user-facing) development with frameworks like React, Angular, and Vue.js.\n",
            "    * **Mobile app development:** Used in hybrid app frameworks like React Native and Ionic.\n",
            "    * **Game development:**  Popular for web-based games and game engines like Unity.\n",
            "* **Pros:** Highly in demand, used in a wide range of applications, supports both front-end and back-end development.\n",
            "* **Cons:** Can be more complex to learn than Python, especially for beginners.\n",
            "\n",
            "**c) Learn Fortran:**\n",
            "\n",
            "* **Why:** Fortran is a legacy language, primarily used for:\n",
            "    * **Scientific computing:** High-performance applications in areas like physics, engineering, and finance.\n",
            "    * **Numerical simulations:**  Powerful for complex calculations and modeling.\n",
            "* **Pros:** Very efficient for numerical tasks, large community and resources in scientific fields.\n",
            "* **Cons:** Not as widely used as Python or JavaScript, syntax can be challenging for beginners, limited use outside of specific domains.\n",
            "\n",
            "**Recommendation:**\n",
            "\n",
            "* **If you're interested in data science, machine learning, or want a versatile language, Python is a great choice.**\n",
            "* **If you want to focus on web development, interactivity, or mobile apps, JavaScript is the way to go.**\n",
            "* **If you're passionate about scientific computing and numerical simulations, Fortran is worth considering, but it might be less versatile for other applications.**\n",
            "\n",
            "**Additional Tips:**\n",
            "\n",
            "* **Start with one language at a time:** Focus on mastering one before jumping to another.\n",
            "* **Find resources:** Online courses, tutorials, and interactive platforms can make learning easier.\n",
            "* **Practice regularly:** Coding is a skill that requires practice.  Work on small projects to reinforce your learning.\n",
            "\n",
            "Let me know if you have any other questions or want to explore specific areas of interest. \n",
            "\n"
          ]
        }
      ],
      "source": [
        "prompt = \"\"\"I'm a high school student. Which of these activities do you suggest and why:\n",
        "a) learn Python\n",
        "b) learn JavaScript\n",
        "c) learn Fortran\n",
        "\"\"\"\n",
        "\n",
        "print(call_gemini(prompt))"
      ]
    },
    {
      "cell_type": "markdown",
      "metadata": {
        "id": "iTd60b1GdIsx"
      },
      "source": [
        "### Improve response quality by including examples"
      ]
    },
    {
      "cell_type": "markdown",
      "metadata": {
        "id": "yJi44NejdJYE"
      },
      "source": [
        "Another way to improve response quality is to add examples in your prompt. The LLM learns in-context from the examples on how to respond. Typically, one to five examples (shots) are enough to improve the quality of responses. Including too many examples can cause the model to over-fit the data and reduce the quality of responses.\n",
        "\n",
        "Similar to classical model training, the quality and distribution of the examples is very important. Pick examples that are representative of the scenarios that you need the model to learn, and keep the distribution of the examples (e.g. number of examples per class in the case of classification) aligned with your actual distribution."
      ]
    },
    {
      "cell_type": "markdown",
      "metadata": {
        "id": "sMbLginWdOKs"
      },
      "source": [
        "#### Zero-shot prompt"
      ]
    },
    {
      "cell_type": "markdown",
      "metadata": {
        "id": "Crh2Loi2dQ0v"
      },
      "source": [
        "Below is an example of zero-shot prompting, where you don't provide any examples to the LLM within the prompt itself."
      ]
    },
    {
      "cell_type": "code",
      "execution_count": null,
      "metadata": {
        "id": "-7myRc-SdTQ4",
        "outputId": "38d83360-9466-4776-e58a-f289c56d85f9"
      },
      "outputs": [
        {
          "name": "stdout",
          "output_type": "stream",
          "text": [
            "Sentiment: **Positive** \n",
            "\n"
          ]
        }
      ],
      "source": [
        "prompt = \"\"\"Decide whether a Tweet's sentiment is positive, neutral, or negative.\n",
        "\n",
        "Tweet: I loved the new YouTube video you made!\n",
        "Sentiment:\n",
        "\"\"\"\n",
        "\n",
        "print(call_gemini(prompt))"
      ]
    },
    {
      "cell_type": "markdown",
      "metadata": {
        "id": "ucRtPn9SdL64"
      },
      "source": [
        "#### One-shot prompt"
      ]
    },
    {
      "cell_type": "markdown",
      "metadata": {
        "id": "rs0gQH2vdYBi"
      },
      "source": [
        "Below is an example of one-shot prompting, where you provide one example to the LLM within the prompt to give some guidance on what type of response you want."
      ]
    },
    {
      "cell_type": "code",
      "execution_count": null,
      "metadata": {
        "id": "iEq-KxGYdaT5",
        "outputId": "e1378dec-0004-4135-e167-5e724f88cdbe"
      },
      "outputs": [
        {
          "name": "stdout",
          "output_type": "stream",
          "text": [
            "Sentiment: **negative** \n",
            "\n"
          ]
        }
      ],
      "source": [
        "prompt = \"\"\"Decide whether a Tweet's sentiment is positive, neutral, or negative.\n",
        "\n",
        "Tweet: I loved the new YouTube video you made!\n",
        "Sentiment: positive\n",
        "\n",
        "Tweet: That was awful. Super boring 😠\n",
        "Sentiment:\n",
        "\"\"\"\n",
        "\n",
        "print(call_gemini(prompt))"
      ]
    },
    {
      "cell_type": "markdown",
      "metadata": {
        "id": "JnKLjJzmdfL_"
      },
      "source": [
        "#### Few-shot prompt"
      ]
    },
    {
      "cell_type": "markdown",
      "metadata": {
        "id": "6Zv-9F5OdgI_"
      },
      "source": [
        "Below is an example of few-shot prompting, where you provide a few examples to the LLM within the prompt to give some guidance on what type of response you want."
      ]
    },
    {
      "cell_type": "code",
      "execution_count": null,
      "metadata": {
        "id": "u37P9tG4dk9S",
        "outputId": "ef0c2b33-b092-4ace-949b-7d162c644e42"
      },
      "outputs": [
        {
          "name": "stdout",
          "output_type": "stream",
          "text": [
            "Sentiment: **Positive** \n",
            "\n",
            "Here's why:\n",
            "\n",
            "* **\"Something surprised me\"** implies a positive experience.\n",
            "* **\"It was actually original\"** is a strong compliment. \n",
            "* **\"Not the same old recycled stuff\"**  further highlights the positive aspect of originality.\n",
            "* **\"Watch it - you will not regret it\"** is a clear recommendation, suggesting a positive experience for others. \n",
            "\n"
          ]
        }
      ],
      "source": [
        "prompt = \"\"\"Decide whether a Tweet's sentiment is positive, neutral, or negative.\n",
        "\n",
        "Tweet: I loved the new YouTube video you made!\n",
        "Sentiment: positive\n",
        "\n",
        "Tweet: That was awful. Super boring 😠\n",
        "Sentiment: negative\n",
        "\n",
        "Tweet: Something surprised me about this video - it was actually original. It was not the same old recycled stuff that I always see. Watch it - you will not regret it.\n",
        "Sentiment:\n",
        "\"\"\"\n",
        "\n",
        "print(call_gemini(prompt))"
      ]
    },
    {
      "cell_type": "markdown",
      "metadata": {
        "id": "wDMD3xb2dvX6"
      },
      "source": [
        "#### Choosing between zero-shot, one-shot, few-shot prompting methods"
      ]
    },
    {
      "cell_type": "markdown",
      "metadata": {
        "id": "s92W0YpNdxJp"
      },
      "source": [
        "Which prompt technique to use will solely depends on your goal. The zero-shot prompts are more open-ended and can give you creative answers, while one-shot and few-shot prompts teach the model how to behave so you can get more predictable answers that are consistent with the examples provided."
      ]
    }
  ],
  "metadata": {
    "colab": {
      "toc_visible": true,
      "provenance": [],
      "include_colab_link": true
    },
    "environment": {
      "kernel": "conda-base-py",
      "name": "workbench-notebooks.m126",
      "type": "gcloud",
      "uri": "us-docker.pkg.dev/deeplearning-platform-release/gcr.io/workbench-notebooks:m126"
    },
    "kernelspec": {
      "display_name": "Python 3 (ipykernel) (Local)",
      "language": "python",
      "name": "conda-base-py"
    },
    "language_info": {
      "codemirror_mode": {
        "name": "ipython",
        "version": 3
      },
      "file_extension": ".py",
      "mimetype": "text/x-python",
      "name": "python",
      "nbconvert_exporter": "python",
      "pygments_lexer": "ipython3",
      "version": "3.10.15"
    }
  },
  "nbformat": 4,
  "nbformat_minor": 0
}